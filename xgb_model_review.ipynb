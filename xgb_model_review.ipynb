{
 "cells": [
  {
   "cell_type": "code",
   "execution_count": 1,
   "metadata": {},
   "outputs": [
    {
     "name": "stdout",
     "output_type": "stream",
     "text": [
      "                                         review_lemm label\n",
      "0  well available mic price range mic connect dsl...   pos\n",
      "1  hi mic month write review give genuine review ...   pos\n",
      "2  product quality good bad build good thing want...   pos\n",
      "3  record phone laptop quality regular headphone ...   pos\n",
      "4  honest review boya m read help clear dilemma n...   pos\n",
      "(4820, 2)\n"
     ]
    }
   ],
   "source": [
    "import pandas as pd\n",
    "\n",
    "df = pd.read_excel('Amazon_labels.xlsx')\n",
    "print(df.head())\n",
    "df.isnull().sum()\n",
    "df.dropna(inplace=True)\n",
    "print(df.shape)"
   ]
  },
  {
   "cell_type": "code",
   "execution_count": 2,
   "metadata": {},
   "outputs": [],
   "source": [
    "X = df['review_lemm']\n",
    "y = df['label']"
   ]
  },
  {
   "cell_type": "code",
   "execution_count": 3,
   "metadata": {},
   "outputs": [],
   "source": [
    "from sklearn.model_selection import train_test_split\n",
    "X_train, X_test, y_train, y_test = train_test_split(X, y, test_size=0.33, random_state=42)"
   ]
  },
  {
   "cell_type": "code",
   "execution_count": 4,
   "metadata": {},
   "outputs": [],
   "source": [
    "from sklearn.feature_extraction.text import TfidfVectorizer\n",
    "#from sklearn.naive_bayes import MultinomialNB\n",
    "from xgboost import XGBClassifier\n",
    "tfidf=TfidfVectorizer()"
   ]
  },
  {
   "cell_type": "code",
   "execution_count": 5,
   "metadata": {},
   "outputs": [],
   "source": [
    "X_train_t=tfidf.fit_transform(X_train)\n",
    "X_test_t=tfidf.transform(X_test)\n",
    "clf=XGBClassifier(random_state=32)\n",
    "model=clf.fit(X_train_t, y_train)\n",
    "predictions = model.predict(X_test_t)"
   ]
  },
  {
   "cell_type": "code",
   "execution_count": 6,
   "metadata": {},
   "outputs": [
    {
     "name": "stdout",
     "output_type": "stream",
     "text": [
      "[[ 133   22   32]\n",
      " [   1  198   13]\n",
      " [  16   40 1136]]\n",
      "              precision    recall  f1-score   support\n",
      "\n",
      "         neg       0.89      0.71      0.79       187\n",
      "         neu       0.76      0.93      0.84       212\n",
      "         pos       0.96      0.95      0.96      1192\n",
      "\n",
      "    accuracy                           0.92      1591\n",
      "   macro avg       0.87      0.87      0.86      1591\n",
      "weighted avg       0.93      0.92      0.92      1591\n",
      "\n",
      "0.9220615964802011\n"
     ]
    }
   ],
   "source": [
    "from sklearn import metrics\n",
    "print(metrics.confusion_matrix(y_test,predictions))\n",
    "print(metrics.classification_report(y_test,predictions))\n",
    "print(metrics.accuracy_score(y_test,predictions))"
   ]
  },
  {
   "cell_type": "code",
   "execution_count": 7,
   "metadata": {},
   "outputs": [],
   "source": [
    "import pickle\n",
    "pickle.dump(model,open('xgb_model.pkl','wb'))\n",
    "pickle.dump(tfidf,open('tfidf.pkl','wb'))"
   ]
  },
  {
   "cell_type": "code",
   "execution_count": null,
   "metadata": {},
   "outputs": [],
   "source": []
  }
 ],
 "metadata": {
  "kernelspec": {
   "display_name": "Python 3",
   "language": "python",
   "name": "python3"
  },
  "language_info": {
   "codemirror_mode": {
    "name": "ipython",
    "version": 3
   },
   "file_extension": ".py",
   "mimetype": "text/x-python",
   "name": "python",
   "nbconvert_exporter": "python",
   "pygments_lexer": "ipython3",
   "version": "3.8.3"
  }
 },
 "nbformat": 4,
 "nbformat_minor": 4
}
